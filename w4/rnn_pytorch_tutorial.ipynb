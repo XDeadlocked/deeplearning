{
 "cells": [
  {
   "cell_type": "markdown",
   "id": "b0386667",
   "metadata": {},
   "source": [
    "# RNN Tutorial"
   ]
  },
  {
   "cell_type": "markdown",
   "id": "888043a3",
   "metadata": {},
   "source": [
    "Included in the data/names directory are 18 text files named as “[Language].txt”. Each file contains a bunch of names, one name per line, mostly romanized (but we still need to convert from Unicode to ASCII).\n",
    "\n",
    "We’ll end up with a dictionary of lists of names per language, {language: [names ...]}. The generic variables “category” and “line” (for language and name in our case) are used for later extensibility."
   ]
  },
  {
   "cell_type": "code",
   "execution_count": 2,
   "id": "b44343fa",
   "metadata": {
    "scrolled": true
   },
   "outputs": [
    {
     "name": "stdout",
     "output_type": "stream",
     "text": [
      "['./data/data/names\\\\Arabic.txt', './data/data/names\\\\Chinese.txt', './data/data/names\\\\Czech.txt', './data/data/names\\\\Dutch.txt', './data/data/names\\\\English.txt', './data/data/names\\\\French.txt', './data/data/names\\\\German.txt', './data/data/names\\\\Greek.txt', './data/data/names\\\\Irish.txt', './data/data/names\\\\Italian.txt', './data/data/names\\\\Japanese.txt', './data/data/names\\\\Korean.txt', './data/data/names\\\\Polish.txt', './data/data/names\\\\Portuguese.txt', './data/data/names\\\\Russian.txt', './data/data/names\\\\Scottish.txt', './data/data/names\\\\Spanish.txt', './data/data/names\\\\Vietnamese.txt']\n",
      "Slusarski\n"
     ]
    }
   ],
   "source": [
    "from __future__ import unicode_literals, print_function, division\n",
    "from io import open\n",
    "import glob\n",
    "import os\n",
    "\n",
    "def findFiles(path): return glob.glob(path)\n",
    "\n",
    "print(findFiles('./data/data/names/*.txt'))\n",
    "\n",
    "import unicodedata\n",
    "import string\n",
    "\n",
    "all_letters = string.ascii_letters + \" .,;'\"\n",
    "n_letters = len(all_letters)\n",
    "\n",
    "# Turn a Unicode string to plain ASCII, thanks to https://stackoverflow.com/a/518232/2809427\n",
    "def unicodeToAscii(s):\n",
    "    return ''.join(\n",
    "        c for c in unicodedata.normalize('NFD', s)\n",
    "        if unicodedata.category(c) != 'Mn'\n",
    "        and c in all_letters\n",
    "    )\n",
    "\n",
    "print(unicodeToAscii('Ślusàrski'))\n",
    "\n",
    "# Build the category_lines dictionary, a list of names per language\n",
    "category_lines = {}\n",
    "all_categories = []\n",
    "\n",
    "# Read a file and split into lines\n",
    "def readLines(filename):\n",
    "    lines = open(filename, encoding='utf-8').read().strip().split('\\n')\n",
    "    return [unicodeToAscii(line) for line in lines]\n",
    "\n",
    "for filename in findFiles('./data/data/names/*.txt'):\n",
    "    category = os.path.splitext(os.path.basename(filename))[0]\n",
    "    all_categories.append(category)\n",
    "    lines = readLines(filename)\n",
    "    category_lines[category] = lines\n",
    "\n",
    "n_categories = len(all_categories)"
   ]
  },
  {
   "cell_type": "markdown",
   "id": "e58f58a0",
   "metadata": {},
   "source": [
    "Now we have category_lines, a dictionary mapping each category (language) to a list of lines (names). We also kept track of all_categories (just a list of languages) and n_categories for later reference."
   ]
  },
  {
   "cell_type": "code",
   "execution_count": 3,
   "id": "03a992d9",
   "metadata": {},
   "outputs": [
    {
     "name": "stdout",
     "output_type": "stream",
     "text": [
      "['Abandonato', 'Abatangelo', 'Abatantuono', 'Abate', 'Abategiovanni']\n"
     ]
    }
   ],
   "source": [
    "print(category_lines['Italian'][:5])"
   ]
  },
  {
   "cell_type": "markdown",
   "id": "6c219cf0",
   "metadata": {},
   "source": [
    "### Turning Names into Tensors\n",
    "Now that we have all the names organized, we need to turn them into Tensors to make any use of them.\n",
    "\n",
    "To represent a single letter, we use a “one-hot vector” of size <1 x n_letters>. A one-hot vector is filled with 0s except for a 1 at index of the current letter, e.g. \"b\" = <0 1 0 0 0 ...>.\n",
    "\n",
    "To make a word we join a bunch of those into a 2D matrix <line_length x 1 x n_letters>.\n",
    "\n",
    "That extra 1 dimension is because PyTorch assumes everything is in batches - we’re just using a batch size of 1 here."
   ]
  },
  {
   "cell_type": "code",
   "execution_count": 4,
   "id": "c479aae7",
   "metadata": {
    "scrolled": true
   },
   "outputs": [
    {
     "name": "stdout",
     "output_type": "stream",
     "text": [
      "tensor([[0., 0., 0., 0., 0., 0., 0., 0., 0., 0., 0., 0., 0., 0., 0., 0., 0., 0.,\n",
      "         0., 0., 0., 0., 0., 0., 0., 0., 0., 0., 0., 0., 0., 0., 0., 0., 0., 1.,\n",
      "         0., 0., 0., 0., 0., 0., 0., 0., 0., 0., 0., 0., 0., 0., 0., 0., 0., 0.,\n",
      "         0., 0., 0.]])\n",
      "torch.Size([5, 1, 57])\n"
     ]
    }
   ],
   "source": [
    "import torch\n",
    "\n",
    "# Find letter index from all_letters, e.g. \"a\" = 0\n",
    "def letterToIndex(letter):\n",
    "    return all_letters.find(letter)\n",
    "\n",
    "# Just for demonstration, turn a letter into a <1 x n_letters> Tensor\n",
    "def letterToTensor(letter):\n",
    "    tensor = torch.zeros(1, n_letters)\n",
    "    tensor[0][letterToIndex(letter)] = 1\n",
    "    return tensor\n",
    "\n",
    "# Turn a line into a <line_length x 1 x n_letters>,\n",
    "# or an array of one-hot letter vectors\n",
    "def lineToTensor(line):\n",
    "    tensor = torch.zeros(len(line), 1, n_letters)\n",
    "    for li, letter in enumerate(line):\n",
    "        tensor[li][0][letterToIndex(letter)] = 1\n",
    "    return tensor\n",
    "\n",
    "print(letterToTensor('J'))\n",
    "\n",
    "print(lineToTensor('Jones').size())"
   ]
  },
  {
   "cell_type": "markdown",
   "id": "8a979493",
   "metadata": {},
   "source": [
    "### Creating the Network\n",
    "Before autograd, creating a recurrent neural network in Torch involved cloning the parameters of a layer over several timesteps. The layers held hidden state and gradients which are now entirely handled by the graph itself. This means you can implement a RNN in a very “pure” way, as regular feed-forward layers.\n",
    "\n",
    "This RNN module (mostly copied from the PyTorch for Torch users tutorial) is just 2 linear layers which operate on an input and hidden state, with a LogSoftmax layer after the output."
   ]
  },
  {
   "attachments": {
    "rnn.png": {
     "image/png": "[encoded data removed]"
    }
   },
   "cell_type": "markdown",
   "id": "a5802423",
   "metadata": {},
   "source": [
    "![rnn.png](attachment:rnn.png)"
   ]
  },
  {
   "cell_type": "code",
   "execution_count": 18,
   "id": "cc618041",
   "metadata": {},
   "outputs": [
    {
     "name": "stdout",
     "output_type": "stream",
     "text": [
      "RNN(\n",
      "  (i2h): Linear(in_features=185, out_features=128, bias=True)\n",
      "  (i2o): Linear(in_features=185, out_features=18, bias=True)\n",
      "  (softmax): LogSoftmax(dim=1)\n",
      ")\n"
     ]
    }
   ],
   "source": [
    "import torch.nn as nn\n",
    "\n",
    "class RNN(nn.Module):\n",
    "    def __init__(self, input_size, hidden_size, output_size):\n",
    "        super(RNN, self).__init__()\n",
    "\n",
    "        self.hidden_size = hidden_size\n",
    "\n",
    "        self.i2h = nn.Linear(input_size + hidden_size, hidden_size)\n",
    "        self.i2o = nn.Linear(input_size + hidden_size, output_size)\n",
    "        self.softmax = nn.LogSoftmax(dim=1)\n",
    "\n",
    "    def forward(self, input, hidden):\n",
    "        combined = torch.cat((input, hidden), 1)\n",
    "        hidden = self.i2h(combined)\n",
    "        output = self.i2o(combined)\n",
    "        output = self.softmax(output)\n",
    "        return output, hidden\n",
    "\n",
    "    def initHidden(self):\n",
    "        return torch.zeros(1, self.hidden_size)\n",
    "\n",
    "n_hidden = 128\n",
    "rnn = RNN(n_letters, n_hidden, n_categories)\n",
    "print(rnn)"
   ]
  },
  {
   "cell_type": "code",
   "execution_count": 19,
   "id": "c27f5033",
   "metadata": {},
   "outputs": [
    {
     "name": "stdout",
     "output_type": "stream",
     "text": [
      "LSTM(\n",
      "  (rnn): LSTM(57, 64)\n",
      "  (out): Linear(in_features=64, out_features=18, bias=True)\n",
      "  (softmax): LogSoftmax(dim=-1)\n",
      ")\n"
     ]
    }
   ],
   "source": [
    "import torch.nn as nn\n",
    "\n",
    "class LSTM(nn.Module):\n",
    "    def __init__(self, input_size, hidden_size, output_size):\n",
    "        super(LSTM, self).__init__()\n",
    "\n",
    "        self.hidden_size = hidden_size\n",
    "\n",
    "        self.rnn = nn.LSTM(input_size, hidden_size)\n",
    "        self.out = nn.Linear(hidden_size, output_size)\n",
    "        self.softmax = nn.LogSoftmax(dim=-1)\n",
    "\n",
    "    def forward(self, input, h, c):\n",
    "#         combined = torch.cat((input, hidden), 1)\n",
    "        out, (h, c) = self.rnn(input, (h, c))\n",
    "        output = self.out(out)\n",
    "        output = self.softmax(output)\n",
    "        return output, h, c\n",
    "\n",
    "    def initHidden(self):\n",
    "        return torch.zeros(1, 1, self.hidden_size), torch.zeros(1, 1, self.hidden_size)\n",
    "\n",
    "n_hidden = 64\n",
    "rnn = LSTM(n_letters, n_hidden, n_categories)\n",
    "print(rnn)"
   ]
  },
  {
   "cell_type": "code",
   "execution_count": 6,
   "id": "e35a5e73",
   "metadata": {},
   "outputs": [],
   "source": []
  },
  {
   "cell_type": "code",
   "execution_count": 9,
   "id": "3c94c328",
   "metadata": {},
   "outputs": [],
   "source": [
    "\n",
    "class MyLSTM(nn.Module):\n",
    "    def __init__(self, input_size, hidden_size, output_size):\n",
    "        super(MyLSTM, self).__init__()\n",
    "        self.hidden_size = hidden_size\n",
    "        \n",
    "        # LSTM parameters\n",
    "        self.W_f = nn.Linear(input_size + hidden_size, hidden_size)\n",
    "        self.W_i = nn.Linear(input_size + hidden_size, hidden_size)\n",
    "        self.W_C = nn.Linear(input_size + hidden_size, hidden_size)\n",
    "        self.W_o = nn.Linear(input_size + hidden_size, hidden_size)\n",
    "        \n",
    "        # Output layer\n",
    "        self.out = nn.Linear(hidden_size, output_size)\n",
    "        self.softmax = nn.LogSoftmax(dim=-1)\n",
    "    \n",
    "    def forward(self, input, h, C):\n",
    "        combined = torch.cat((input, h), dim=2)\n",
    "        \n",
    "        f_t = torch.sigmoid(self.W_f(combined))\n",
    "        i_t = torch.sigmoid(self.W_i(combined))\n",
    "        C_tilde = torch.tanh(self.W_C(combined))\n",
    "        C = f_t * C + i_t * C_tilde\n",
    "        o_t = torch.sigmoid(self.W_o(combined))\n",
    "        h = o_t * torch.tanh(C)\n",
    "        \n",
    "        output = self.out(h)\n",
    "        output = self.softmax(output)\n",
    "        return output, h, C\n",
    "    \n",
    "    def initHidden(self):\n",
    "        return torch.zeros(1, 1, self.hidden_size), torch.zeros(1, 1, self.hidden_size)\n",
    "\n",
    "n_hidden = 64\n",
    "rnn = MyLSTM(n_letters, n_hidden, n_categories)"
   ]
  },
  {
   "cell_type": "markdown",
   "id": "9e1fa5ee",
   "metadata": {},
   "source": [
    "To run a step of this network we need to pass an input (in our case, the Tensor for the current letter) and a previous hidden state (which we initialize as zeros at first). We’ll get back the output (probability of each language) and a next hidden state (which we keep for the next step)."
   ]
  },
  {
   "cell_type": "code",
   "execution_count": 16,
   "id": "b4b9eecb",
   "metadata": {},
   "outputs": [
    {
     "name": "stdout",
     "output_type": "stream",
     "text": [
      "torch.Size([1, 57])\n"
     ]
    }
   ],
   "source": [
    "input = letterToTensor('A')\n",
    "print(input.size())\n",
    "hidden = torch.zeros(1, n_hidden)\n",
    "\n",
    "h, c = rnn.initHidden()\n",
    "output = rnn(input.unsqueeze(1), h, c)"
   ]
  },
  {
   "cell_type": "markdown",
   "id": "eb17c8f1",
   "metadata": {},
   "source": [
    "For the sake of efficiency we don’t want to be creating a new Tensor for every step, so we will use lineToTensor instead of letterToTensor and use slices. This could be further optimized by pre-computing batches of Tensors."
   ]
  },
  {
   "cell_type": "code",
   "execution_count": 17,
   "id": "b5c2d9ad",
   "metadata": {},
   "outputs": [
    {
     "name": "stdout",
     "output_type": "stream",
     "text": [
      "torch.Size([6, 1, 57])\n",
      "tensor([[[0.0605, 0.0588, 0.0526, 0.0585, 0.0533, 0.0591, 0.0554, 0.0481,\n",
      "          0.0486, 0.0600, 0.0524, 0.0599, 0.0545, 0.0624, 0.0492, 0.0501,\n",
      "          0.0586, 0.0582]],\n",
      "\n",
      "        [[0.0604, 0.0586, 0.0536, 0.0581, 0.0527, 0.0594, 0.0556, 0.0478,\n",
      "          0.0496, 0.0585, 0.0523, 0.0598, 0.0540, 0.0651, 0.0488, 0.0493,\n",
      "          0.0583, 0.0582]],\n",
      "\n",
      "        [[0.0613, 0.0594, 0.0530, 0.0575, 0.0536, 0.0590, 0.0555, 0.0487,\n",
      "          0.0493, 0.0593, 0.0515, 0.0583, 0.0538, 0.0652, 0.0494, 0.0495,\n",
      "          0.0581, 0.0575]],\n",
      "\n",
      "        [[0.0609, 0.0585, 0.0526, 0.0581, 0.0536, 0.0591, 0.0551, 0.0479,\n",
      "          0.0492, 0.0590, 0.0512, 0.0610, 0.0540, 0.0652, 0.0497, 0.0503,\n",
      "          0.0580, 0.0569]],\n",
      "\n",
      "        [[0.0615, 0.0594, 0.0534, 0.0576, 0.0532, 0.0586, 0.0570, 0.0483,\n",
      "          0.0496, 0.0595, 0.0508, 0.0602, 0.0541, 0.0645, 0.0498, 0.0498,\n",
      "          0.0574, 0.0551]],\n",
      "\n",
      "        [[0.0604, 0.0582, 0.0521, 0.0578, 0.0521, 0.0594, 0.0561, 0.0483,\n",
      "          0.0507, 0.0591, 0.0515, 0.0606, 0.0538, 0.0663, 0.0497, 0.0498,\n",
      "          0.0580, 0.0560]]], grad_fn=<ExpBackward0>)\n"
     ]
    }
   ],
   "source": [
    "input = lineToTensor('Albert')\n",
    "print(input.size())\n",
    "hidden = torch.zeros(1, n_hidden)\n",
    "\n",
    "h, c = rnn.initHidden()\n",
    "output, h, c = rnn(input, h, c)\n",
    "print(torch.exp(output))"
   ]
  },
  {
   "cell_type": "markdown",
   "id": "7cf3d70c",
   "metadata": {},
   "source": [
    "As you can see the output is a <1 x n_categories> Tensor, where every item is the likelihood of that category (higher is more likely)."
   ]
  },
  {
   "cell_type": "markdown",
   "id": "5b07c378",
   "metadata": {},
   "source": [
    "### Preparing for Training\n",
    "Before going into training we should make a few helper functions. The first is to interpret the output of the network, which we know to be a likelihood of each category. We can use Tensor.topk to get the index of the greatest value:"
   ]
  },
  {
   "cell_type": "code",
   "execution_count": 14,
   "id": "0fa90972",
   "metadata": {},
   "outputs": [
    {
     "name": "stdout",
     "output_type": "stream",
     "text": [
      "('Arabic', 0)\n"
     ]
    }
   ],
   "source": [
    "def categoryFromOutput(output):\n",
    "    top_n, top_i = output.topk(1)\n",
    "    category_i = top_i[0].item()\n",
    "    return all_categories[category_i], category_i\n",
    "\n",
    "print(categoryFromOutput(output))"
   ]
  },
  {
   "cell_type": "markdown",
   "id": "627e3f73",
   "metadata": {},
   "source": [
    "We will also want a quick way to get a training example (a name and its language):"
   ]
  },
  {
   "cell_type": "code",
   "execution_count": 15,
   "id": "2c3ee352",
   "metadata": {},
   "outputs": [
    {
     "name": "stdout",
     "output_type": "stream",
     "text": [
      "category = Portuguese / line = Abreu\n",
      "category = Italian / line = Cucinotta\n",
      "category = Japanese / line = Ijichi\n",
      "category = Chinese / line = Hsiao\n",
      "category = Vietnamese / line = Le\n",
      "category = German / line = Kalb\n",
      "category = Spanish / line = Maradona\n",
      "category = Chinese / line = Song\n",
      "category = Spanish / line = Asis\n",
      "category = Scottish / line = Simpson\n"
     ]
    }
   ],
   "source": [
    "import random\n",
    "\n",
    "def randomChoice(l):\n",
    "    return l[random.randint(0, len(l) - 1)]\n",
    "\n",
    "def randomTrainingExample():\n",
    "    category = randomChoice(all_categories)\n",
    "    line = randomChoice(category_lines[category])\n",
    "    category_tensor = torch.tensor([all_categories.index(category)], dtype=torch.long)\n",
    "    line_tensor = lineToTensor(line)\n",
    "    return category, line, category_tensor, line_tensor\n",
    "\n",
    "for i in range(10):\n",
    "    category, line, category_tensor, line_tensor = randomTrainingExample()\n",
    "    print('category =', category, '/ line =', line)"
   ]
  },
  {
   "cell_type": "markdown",
   "id": "c40c4996",
   "metadata": {},
   "source": [
    "### Training the Network\n",
    "Now all it takes to train this network is show it a bunch of examples, have it make guesses, and tell it if it’s wrong.\n",
    "\n",
    "For the loss function nn.NLLLoss is appropriate, since the last layer of the RNN is nn.LogSoftmax."
   ]
  },
  {
   "cell_type": "code",
   "execution_count": 16,
   "id": "122bdeff",
   "metadata": {},
   "outputs": [],
   "source": [
    "criterion = nn.NLLLoss()"
   ]
  },
  {
   "cell_type": "markdown",
   "id": "e304bb71",
   "metadata": {},
   "source": [
    "Each loop of training will:\n",
    "\n",
    "- Create input and target tensors\n",
    "- Create a zeroed initial hidden state\n",
    "- Read each letter in and keep hidden state for next letter\n",
    "- Compare final output to target\n",
    "- Back-propagate\n",
    "- Return the output and loss"
   ]
  },
  {
   "cell_type": "code",
   "execution_count": 17,
   "id": "602ea715",
   "metadata": {},
   "outputs": [],
   "source": [
    "learning_rate = 0.005 # If you set this too high, it might explode. If too low, it might not learn\n",
    "\n",
    "def train(category_tensor, line_tensor):\n",
    "    h0, c0 = rnn.initHidden()\n",
    "\n",
    "    rnn.zero_grad()\n",
    "\n",
    "#     print(line_tensor.size())\n",
    "#     for i in range(line_tensor.size()[0]):\n",
    "#         output, hidden = rnn(line_tensor[i], hidden)\n",
    "    output, h, c = rnn(line_tensor, h0, c0)\n",
    "\n",
    "    loss = criterion(output[-1], category_tensor)\n",
    "    loss.backward()\n",
    "\n",
    "    # Add parameters' gradients to their values, multiplied by learning rate\n",
    "    for p in rnn.parameters():\n",
    "        p.data.add_(p.grad.data, alpha=-learning_rate)\n",
    "\n",
    "    return output, loss.item()"
   ]
  },
  {
   "cell_type": "markdown",
   "id": "eed19e81",
   "metadata": {},
   "source": [
    "Now we just have to run that with a bunch of examples. Since the train function returns both the output and loss we can print its guesses and also keep track of loss for plotting. Since there are 1000s of examples we print only every print_every examples, and take an average of the loss."
   ]
  },
  {
   "cell_type": "code",
   "execution_count": 18,
   "id": "e0dfe2c3",
   "metadata": {},
   "outputs": [
    {
     "name": "stdout",
     "output_type": "stream",
     "text": [
      "5000 1% (0m 7s) 2.9026 Hwang / Scottish ✗ (Korean)\n",
      "10000 3% (0m 15s) 2.8156 Salvai / Irish ✗ (Italian)\n",
      "15000 5% (0m 23s) 2.8356 Pasternack / English ✗ (Polish)\n",
      "20000 6% (0m 30s) 2.3920 Han / Vietnamese ✗ (Korean)\n",
      "25000 8% (0m 38s) 1.8892 Ha / Chinese ✗ (Korean)\n",
      "30000 10% (0m 46s) 2.4880 Agramov / Russian ✓\n",
      "35000 11% (0m 53s) 1.9896 Abadi / Japanese ✗ (Arabic)\n",
      "40000 13% (1m 1s) 1.9177 Jiao / Vietnamese ✗ (Chinese)\n",
      "45000 15% (1m 9s) 2.4212 Devin / English ✗ (Irish)\n",
      "50000 16% (1m 17s) 3.0069 Black / Polish ✗ (Scottish)\n",
      "55000 18% (1m 25s) 0.3221 Zielinski / Polish ✓\n",
      "60000 20% (1m 32s) 1.4989 Ngo / Korean ✗ (Vietnamese)\n",
      "65000 21% (1m 40s) 0.2345 Abbracciabeni / Italian ✓\n",
      "70000 23% (1m 47s) 1.3456 Romero / Italian ✗ (Spanish)\n",
      "75000 25% (1m 55s) 0.1594 Christakos / Greek ✓\n",
      "80000 26% (2m 2s) 4.2409 Roy / Korean ✗ (French)\n",
      "85000 28% (2m 10s) 2.5075 Pugliese / French ✗ (Italian)\n",
      "90000 30% (2m 17s) 2.5830 Snelker / Dutch ✗ (Czech)\n",
      "95000 31% (2m 25s) 2.7609 D'amore / French ✗ (Italian)\n",
      "100000 33% (2m 33s) 0.6695 Srour / Arabic ✓\n",
      "105000 35% (2m 40s) 1.0511 Mackenzie / Scottish ✓\n",
      "110000 36% (2m 48s) 0.0517 Horoshavtsev / Russian ✓\n",
      "115000 38% (2m 56s) 0.1143 Maciomhair / Irish ✓\n",
      "120000 40% (3m 3s) 0.1817 Mishima / Japanese ✓\n",
      "125000 41% (3m 11s) 0.8043 Becker / German ✓\n",
      "130000 43% (3m 19s) 0.1376 Takudome / Japanese ✓\n",
      "135000 45% (3m 28s) 0.9155 Pawlak / Polish ✗ (Czech)\n",
      "140000 46% (3m 36s) 1.4347 Chin / Korean ✗ (Chinese)\n",
      "145000 48% (3m 44s) 1.2264 Emmerson / Scottish ✗ (English)\n",
      "150000 50% (3m 52s) 0.2692 Aloisi / Italian ✓\n",
      "155000 51% (4m 0s) 1.0634 Torres / Spanish ✗ (Portuguese)\n",
      "160000 53% (4m 7s) 0.4146 Mackenzie / Scottish ✓\n",
      "165000 55% (4m 15s) 2.1008 Jordan / Czech ✗ (Polish)\n",
      "170000 56% (4m 22s) 0.6586 Rotolo / Italian ✓\n",
      "175000 58% (4m 30s) 0.7950 Barros / Portuguese ✓\n",
      "180000 60% (4m 37s) 0.0207 Janowski / Polish ✓\n",
      "185000 61% (4m 45s) 1.5271 Steuben / Dutch ✗ (German)\n",
      "190000 63% (4m 52s) 1.6611 Fell / German ✗ (English)\n",
      "195000 65% (5m 0s) 0.3180 Ramires / Portuguese ✓\n",
      "200000 66% (5m 8s) 0.2796 Oh  / Korean ✓\n",
      "205000 68% (5m 15s) 0.0778 Oberti / Italian ✓\n",
      "210000 70% (5m 23s) 0.7578 Tow / Chinese ✓\n",
      "215000 71% (5m 31s) 0.0196 Duong / Vietnamese ✓\n",
      "220000 73% (5m 39s) 1.3900 Porkhun / Irish ✗ (Russian)\n",
      "225000 75% (5m 46s) 0.0482 Sinclair / Scottish ✓\n",
      "230000 76% (5m 54s) 0.7484 Mata / Portuguese ✓\n",
      "235000 78% (6m 2s) 0.4391 Kirchma / Czech ✓\n",
      "240000 80% (6m 10s) 0.2096 Lesauvage / French ✓\n",
      "245000 81% (6m 18s) 3.8888 Silhan / Irish ✗ (Czech)\n",
      "250000 83% (6m 25s) 1.6002 Specht / German ✗ (Dutch)\n",
      "255000 85% (6m 33s) 0.2440 Wei / Chinese ✓\n",
      "260000 86% (6m 40s) 1.3646 Horn / German ✗ (Dutch)\n",
      "265000 88% (6m 48s) 0.5116 Ribeiro / Portuguese ✓\n",
      "270000 90% (6m 56s) 1.9963 Collier / French ✗ (English)\n",
      "275000 91% (7m 3s) 3.4514 Mckay / Scottish ✗ (Irish)\n",
      "280000 93% (7m 11s) 0.0831 Aarle / Dutch ✓\n",
      "285000 95% (7m 19s) 0.1366 Denisov / Russian ✓\n",
      "290000 96% (7m 27s) 1.7405 Emile / English ✗ (French)\n",
      "295000 98% (7m 35s) 3.0999 Pae / Chinese ✗ (Korean)\n",
      "300000 100% (7m 43s) 0.0010 Imaizumi / Japanese ✓\n"
     ]
    }
   ],
   "source": [
    "import time\n",
    "import math\n",
    "\n",
    "n_iters = 300000\n",
    "print_every = 5000\n",
    "plot_every = 1000\n",
    "\n",
    "\n",
    "\n",
    "# Keep track of losses for plotting\n",
    "current_loss = 0\n",
    "all_losses = []\n",
    "\n",
    "def timeSince(since):\n",
    "    now = time.time()\n",
    "    s = now - since\n",
    "    m = math.floor(s / 60)\n",
    "    s -= m * 60\n",
    "    return '%dm %ds' % (m, s)\n",
    "\n",
    "start = time.time()\n",
    "\n",
    "for iter in range(1, n_iters + 1):\n",
    "    category, line, category_tensor, line_tensor = randomTrainingExample()\n",
    "    output, loss = train(category_tensor, line_tensor)\n",
    "    current_loss += loss\n",
    "\n",
    "    # Print iter number, loss, name and guess\n",
    "    if iter % print_every == 0:\n",
    "        guess, guess_i = categoryFromOutput(output[-1])\n",
    "        correct = '✓' if guess == category else '✗ (%s)' % category\n",
    "        print('%d %d%% (%s) %.4f %s / %s %s' % (iter, iter / n_iters * 100, timeSince(start), loss, line, guess, correct))\n",
    "\n",
    "    # Add current loss avg to list of losses\n",
    "    if iter % plot_every == 0:\n",
    "        all_losses.append(current_loss / plot_every)\n",
    "        current_loss = 0"
   ]
  },
  {
   "cell_type": "markdown",
   "id": "9919c0b4",
   "metadata": {},
   "source": [
    "### Plotting the Results\n",
    "Plotting the historical loss from all_losses shows the network learning:"
   ]
  },
  {
   "cell_type": "code",
   "execution_count": 19,
   "id": "5533ea72",
   "metadata": {},
   "outputs": [
    {
     "data": {
      "text/plain": [
       "[<matplotlib.lines.Line2D at 0x27b2ef1c640>]"
      ]
     },
     "execution_count": 19,
     "metadata": {},
     "output_type": "execute_result"
    },
    {
     "data": {
      "image/png": "[encoded data removed]",
      "text/plain": [
       "<Figure size 640x480 with 1 Axes>"
      ]
     },
     "metadata": {},
     "output_type": "display_data"
    }
   ],
   "source": [
    "import matplotlib.pyplot as plt\n",
    "import matplotlib.ticker as ticker\n",
    "\n",
    "plt.figure()\n",
    "plt.plot(all_losses)"
   ]
  },
  {
   "cell_type": "markdown",
   "id": "44d8a092",
   "metadata": {},
   "source": [
    "### Evaluating the Results\n",
    "To see how well the network performs on different categories, we will create a confusion matrix, indicating for every actual language (rows) which language the network guesses (columns). To calculate the confusion matrix a bunch of samples are run through the network with evaluate(), which is the same as train() minus the backprop."
   ]
  },
  {
   "cell_type": "code",
   "execution_count": 20,
   "id": "71e6c595",
   "metadata": {
    "scrolled": true
   },
   "outputs": [
    {
     "name": "stderr",
     "output_type": "stream",
     "text": [
      "C:\\Users\\LEGION\\AppData\\Local\\Temp\\ipykernel_7724\\2100908311.py:33: UserWarning: FixedFormatter should only be used together with FixedLocator\n",
      "  ax.set_xticklabels([''] + all_categories, rotation=90)\n",
      "C:\\Users\\LEGION\\AppData\\Local\\Temp\\ipykernel_7724\\2100908311.py:34: UserWarning: FixedFormatter should only be used together with FixedLocator\n",
      "  ax.set_yticklabels([''] + all_categories)\n"
     ]
    },
    {
     "data": {
      "image/png": "[encoded data removed]",
      "text/plain": [
       "<Figure size 640x480 with 2 Axes>"
      ]
     },
     "metadata": {},
     "output_type": "display_data"
    }
   ],
   "source": [
    "# Keep track of correct guesses in a confusion matrix\n",
    "confusion = torch.zeros(n_categories, n_categories)\n",
    "n_confusion = 10000\n",
    "\n",
    "# Just return an output given a line\n",
    "def evaluate(line_tensor):\n",
    "    h0, c0 = rnn.initHidden()\n",
    "\n",
    "#     for i in range(line_tensor.size()[0]):\n",
    "    output, h, c = rnn(line_tensor, h0, c0)\n",
    "\n",
    "    return output[-1]\n",
    "\n",
    "# Go through a bunch of examples and record which are correctly guessed\n",
    "for i in range(n_confusion):\n",
    "    category, line, category_tensor, line_tensor = randomTrainingExample()\n",
    "    output = evaluate(line_tensor)\n",
    "    guess, guess_i = categoryFromOutput(output)\n",
    "    category_i = all_categories.index(category)\n",
    "    confusion[category_i][guess_i] += 1\n",
    "\n",
    "# Normalize by dividing every row by its sum\n",
    "for i in range(n_categories):\n",
    "    confusion[i] = confusion[i] / confusion[i].sum()\n",
    "\n",
    "# Set up plot\n",
    "fig = plt.figure()\n",
    "ax = fig.add_subplot(111)\n",
    "cax = ax.matshow(confusion.numpy())\n",
    "fig.colorbar(cax)\n",
    "\n",
    "# Set up axes\n",
    "ax.set_xticklabels([''] + all_categories, rotation=90)\n",
    "ax.set_yticklabels([''] + all_categories)\n",
    "\n",
    "# Force label at every tick\n",
    "ax.xaxis.set_major_locator(ticker.MultipleLocator(1))\n",
    "ax.yaxis.set_major_locator(ticker.MultipleLocator(1))\n",
    "\n",
    "# sphinx_gallery_thumbnail_number = 2\n",
    "plt.show()"
   ]
  },
  {
   "cell_type": "markdown",
   "id": "b65115e1",
   "metadata": {},
   "source": [
    "You can pick out bright spots off the main axis that show which languages it guesses incorrectly, e.g. Chinese for Korean, and Spanish for Italian. It seems to do very well with Greek, and very poorly with English (perhaps because of overlap with other languages)."
   ]
  },
  {
   "cell_type": "markdown",
   "id": "dfe1c01e",
   "metadata": {},
   "source": [
    "### Running on User Input"
   ]
  },
  {
   "cell_type": "code",
   "execution_count": 16,
   "id": "23a19ee4",
   "metadata": {},
   "outputs": [
    {
     "name": "stdout",
     "output_type": "stream",
     "text": [
      "\n",
      "> Dovesky\n",
      "(0.68) Russian\n",
      "(0.25) Czech\n",
      "(0.03) English\n",
      "\n",
      "> Jackson\n",
      "(0.70) Scottish\n",
      "(0.18) English\n",
      "(0.05) Russian\n",
      "\n",
      "> Hou\n",
      "(0.49) Chinese\n",
      "(0.34) Korean\n",
      "(0.10) Vietnamese\n"
     ]
    }
   ],
   "source": [
    "import math\n",
    "import numpy as np\n",
    "\n",
    "def predict(input_line, n_predictions=3):\n",
    "    print('\\n> %s' % input_line)\n",
    "    with torch.no_grad():\n",
    "        output = evaluate(lineToTensor(input_line))\n",
    "\n",
    "        # Get top N categories\n",
    "        topv, topi = output.topk(n_predictions, 1, True)\n",
    "        predictions = []\n",
    "\n",
    "        for i in range(n_predictions):\n",
    "            value = topv[0][i].item()\n",
    "            category_index = topi[0][i].item()\n",
    "            print('(%.2f) %s' % (np.exp(value), all_categories[category_index]))\n",
    "            predictions.append([value, all_categories[category_index]])\n",
    "\n",
    "predict('Dovesky')\n",
    "predict('Jackson')\n",
    "predict('Hou')"
   ]
  },
  {
   "cell_type": "code",
   "execution_count": null,
   "id": "3a170e12",
   "metadata": {},
   "outputs": [],
   "source": []
  }
 ],
 "metadata": {
  "kernelspec": {
   "display_name": "pytorch",
   "language": "python",
   "name": "python3"
  },
  "language_info": {
   "codemirror_mode": {
    "name": "ipython",
    "version": 3
   },
   "file_extension": ".py",
   "mimetype": "text/x-python",
   "name": "python",
   "nbconvert_exporter": "python",
   "pygments_lexer": "ipython3",
   "version": "3.8.17"
  }
 },
 "nbformat": 4,
 "nbformat_minor": 5
}
